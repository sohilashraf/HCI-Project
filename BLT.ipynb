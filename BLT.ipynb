{
 "cells": [
  {
   "cell_type": "code",
   "execution_count": 11,
   "metadata": {},
   "outputs": [
    {
     "name": "stdout",
     "output_type": "stream",
     "text": [
      "Collecting bleak\n",
      "  Downloading bleak-0.22.3-py3-none-any.whl (142 kB)\n",
      "     ------------------------------------ 142.7/142.7 kB 652.6 kB/s eta 0:00:00\n",
      "Collecting bleak-winrt<2.0.0,>=1.2.0\n",
      "  Downloading bleak_winrt-1.2.0-cp311-cp311-win_amd64.whl (524 kB)\n",
      "     ------------------------------------ 524.9/524.9 kB 940.9 kB/s eta 0:00:00\n",
      "Requirement already satisfied: typing-extensions>=4.7.0 in c:\\users\\sohila\\appdata\\local\\programs\\python\\python311\\lib\\site-packages (from bleak) (4.12.2)\n",
      "Installing collected packages: bleak-winrt, bleak\n",
      "Successfully installed bleak-0.22.3 bleak-winrt-1.2.0\n",
      "Note: you may need to restart the kernel to use updated packages.\n"
     ]
    },
    {
     "name": "stderr",
     "output_type": "stream",
     "text": [
      "\n",
      "[notice] A new release of pip available: 22.3.1 -> 24.3.1\n",
      "[notice] To update, run: python.exe -m pip install --upgrade pip\n"
     ]
    }
   ],
   "source": [
    "pip install bleak"
   ]
  },
  {
   "cell_type": "code",
   "execution_count": 8,
   "metadata": {},
   "outputs": [
    {
     "name": "stdout",
     "output_type": "stream",
     "text": [
      "Collecting pybluez2Note: you may need to restart the kernel to use updated packages.\n"
     ]
    },
    {
     "name": "stderr",
     "output_type": "stream",
     "text": [
      "  ERROR: Error [WinError 225] Operation did not complete successfully because the file contains a virus or potentially unwanted software while executing command python setup.py egg_info\n",
      "ERROR: Could not install packages due to an OSError: [WinError 225] Operation did not complete successfully because the file contains a virus or potentially unwanted software\n",
      "\n",
      "\n",
      "[notice] A new release of pip available: 22.3.1 -> 24.3.1\n",
      "[notice] To update, run: python.exe -m pip install --upgrade pip\n"
     ]
    },
    {
     "name": "stdout",
     "output_type": "stream",
     "text": [
      "\n",
      "  Using cached pybluez2-0.46.tar.gz (50 kB)\n",
      "  Preparing metadata (setup.py): started\n",
      "  Preparing metadata (setup.py): finished with status 'error'\n"
     ]
    }
   ],
   "source": [
    "pip install pybluez2"
   ]
  },
  {
   "cell_type": "code",
   "execution_count": 25,
   "metadata": {},
   "outputs": [
    {
     "name": "stdout",
     "output_type": "stream",
     "text": [
      "Starting Bluetooth scan...\n",
      "Scanning for Bluetooth devices...\n",
      "\n",
      "Scan completed at 2024-11-24 14:48:55\n",
      "Found 7 devices:\n",
      "\n",
      "Device Name: net\n",
      "MAC Address: 54:B8:74:55:9F:3D\n",
      "Device Name: Unknown\n",
      "MAC Address: 69:A0:DB:EB:A9:3E\n",
      "Device Name: Unknown\n",
      "MAC Address: 7D:5B:1F:A3:BC:BC\n",
      "Device Name: Unknown\n",
      "MAC Address: F8:F9:B0:9C:BC:66\n",
      "Device Name: Unknown\n",
      "MAC Address: 08:86:B8:3D:E0:12\n",
      "Device Name: HwZ_cb000000000003d153\n",
      "MAC Address: 00:A0:50:9D:28:2A\n",
      "Device Name: net\n",
      "MAC Address: B0:96:EA:8F:CE:4F\n"
     ]
    }
   ],
   "source": [
    "import nest_asyncio\n",
    "import asyncio\n",
    "from bleak import BleakScanner\n",
    "from datetime import datetime\n",
    "\n",
    "nest_asyncio.apply()  # This allows nested event loops\n",
    "\n",
    "async def scan_bluetooth_devices():\n",
    "    print(\"Scanning for Bluetooth devices...\")\n",
    "    scan_time = datetime.now().strftime(\"%Y-%m-%d %H:%M:%S\")\n",
    "    \n",
    "    try:\n",
    "        devices = await BleakScanner.discover()\n",
    "        \n",
    "        print(f\"\\nScan completed at {scan_time}\")\n",
    "        print(f\"Found {len(devices)} devices:\\n\")\n",
    "        \n",
    "        for device in devices:\n",
    "            print(f\"Device Name: {device.name or 'Unknown'}\")\n",
    "            print(f\"MAC Address: {device.address}\")\n",
    "    except Exception as e:\n",
    "        print(f\"An error occurred: {str(e)}\")\n",
    "\n",
    "async def main():\n",
    "    print(\"Starting Bluetooth scan...\")\n",
    "    await scan_bluetooth_devices()\n",
    "\n",
    "# Run the async function\n",
    "await main()\n"
   ]
  },
  {
   "cell_type": "code",
   "execution_count": null,
   "metadata": {},
   "outputs": [],
   "source": []
  }
 ],
 "metadata": {
  "kernelspec": {
   "display_name": "Python 3",
   "language": "python",
   "name": "python3"
  },
  "language_info": {
   "codemirror_mode": {
    "name": "ipython",
    "version": 3
   },
   "file_extension": ".py",
   "mimetype": "text/x-python",
   "name": "python",
   "nbconvert_exporter": "python",
   "pygments_lexer": "ipython3",
   "version": "3.11.2"
  }
 },
 "nbformat": 4,
 "nbformat_minor": 2
}
